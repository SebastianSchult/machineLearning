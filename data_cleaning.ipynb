{
 "cells": [
  {
   "cell_type": "code",
   "execution_count": 1,
   "id": "ce088d07-602e-4398-aba8-20dd5c8b2fe5",
   "metadata": {},
   "outputs": [],
   "source": [
    "import pandas as pd"
   ]
  },
  {
   "cell_type": "code",
   "execution_count": 2,
   "id": "73b10b1c-0fc3-440e-ba71-cd68a71395cc",
   "metadata": {},
   "outputs": [],
   "source": [
    "column_names = [\n",
    "    \"age\", \"workclass\", \"fnlwgt\", \"education\", \"education-num\", \"marital-status\",\n",
    "    \"occupation\", \"relationship\", \"race\", \"sex\", \"capital-gain\", \"capital-loss\",\n",
    "    \"hours-per-week\", \"native-country\", \"income\"\n",
    "]\n",
    "\n",
    "df = pd.read_csv(\"adult/adult.data\", header=None, names=column_names, na_values=\" ?\", skipinitialspace=True)"
   ]
  },
  {
   "cell_type": "code",
   "execution_count": 3,
   "id": "d6913934-9dd9-453c-affa-fde0d6ba44aa",
   "metadata": {},
   "outputs": [
    {
     "name": "stdout",
     "output_type": "stream",
     "text": [
      "❓ Fehlende Werte:\n",
      "age               0\n",
      "workclass         0\n",
      "fnlwgt            0\n",
      "education         0\n",
      "education-num     0\n",
      "marital-status    0\n",
      "occupation        0\n",
      "relationship      0\n",
      "race              0\n",
      "sex               0\n",
      "capital-gain      0\n",
      "capital-loss      0\n",
      "hours-per-week    0\n",
      "native-country    0\n",
      "income            0\n",
      "dtype: int64\n"
     ]
    }
   ],
   "source": [
    "# 🧹 1. Fehlende Werte anzeigen\n",
    "print(\"❓ Fehlende Werte:\")\n",
    "print(df.isnull().sum())"
   ]
  },
  {
   "cell_type": "code",
   "execution_count": 4,
   "id": "93ef814b-34cb-49ca-bec4-2ac9f871c3d7",
   "metadata": {},
   "outputs": [
    {
     "name": "stdout",
     "output_type": "stream",
     "text": [
      "✅ Nach Drop: 32561 Zeilen verbleiben\n"
     ]
    }
   ],
   "source": [
    "# 🧼 2. Zeilen mit fehlenden Werten entfernen\n",
    "df_cleaned = df.dropna()\n",
    "\n",
    "print(f\"✅ Nach Drop: {df_cleaned.shape[0]} Zeilen verbleiben\")"
   ]
  },
  {
   "cell_type": "code",
   "execution_count": 5,
   "id": "5ba7e2d1-21bf-45ec-ac81-45cbf6af1bc9",
   "metadata": {},
   "outputs": [],
   "source": [
    "# 🧾 3. Doppelte Einträge entfernen (optional)\n",
    "df_cleaned = df_cleaned.drop_duplicates()"
   ]
  },
  {
   "cell_type": "code",
   "execution_count": 6,
   "id": "a1241ed4-a720-4c99-9638-3fd6e52043e3",
   "metadata": {},
   "outputs": [],
   "source": [
    "# 🔁 4. Zielvariable binär codieren\n",
    "df_cleaned[\"income\"] = df_cleaned[\"income\"].apply(lambda x: 1 if x == \">50K\" else 0)"
   ]
  },
  {
   "cell_type": "code",
   "execution_count": 7,
   "id": "740d4b46-bab1-444f-b44e-6f777467bc93",
   "metadata": {},
   "outputs": [
    {
     "name": "stdout",
     "output_type": "stream",
     "text": [
      "🔤 Kategorische Spalten:\n",
      "['workclass', 'education', 'marital-status', 'occupation', 'relationship', 'race', 'sex', 'native-country']\n"
     ]
    }
   ],
   "source": [
    "# 🔍 5. Überblick über kategorische Merkmale\n",
    "cat_columns = df_cleaned.select_dtypes(include=\"object\").columns.tolist()\n",
    "print(\"🔤 Kategorische Spalten:\")\n",
    "print(cat_columns)"
   ]
  },
  {
   "cell_type": "code",
   "execution_count": 8,
   "id": "3a3e4222-666d-4d57-8107-a5b92dff77db",
   "metadata": {},
   "outputs": [],
   "source": [
    "# 🗑️ 6. Optional: Spalten wie 'fnlwgt' entfernen, falls nicht benötigt\n",
    "df_cleaned = df_cleaned.drop(columns=[\"fnlwgt\"])"
   ]
  },
  {
   "cell_type": "code",
   "execution_count": 9,
   "id": "4e753376-7763-4da7-80c5-7cc615b5d6d5",
   "metadata": {},
   "outputs": [
    {
     "name": "stdout",
     "output_type": "stream",
     "text": [
      "✅ Bereinigte Datei gespeichert: 'adult/adult_cleaned.csv'\n"
     ]
    }
   ],
   "source": [
    "# 💾 7. Bereinigte Daten speichern (z. B. für EDA oder Modeling)\n",
    "df_cleaned.to_csv(\"adult/adult_cleaned.csv\", index=False)\n",
    "\n",
    "print(\"✅ Bereinigte Datei gespeichert: 'adult/adult_cleaned.csv'\")"
   ]
  },
  {
   "cell_type": "code",
   "execution_count": null,
   "id": "88a023f2-3198-40ad-941e-426b5c0739f3",
   "metadata": {},
   "outputs": [],
   "source": []
  }
 ],
 "metadata": {
  "kernelspec": {
   "display_name": "Python [conda env:base] *",
   "language": "python",
   "name": "conda-base-py"
  },
  "language_info": {
   "codemirror_mode": {
    "name": "ipython",
    "version": 3
   },
   "file_extension": ".py",
   "mimetype": "text/x-python",
   "name": "python",
   "nbconvert_exporter": "python",
   "pygments_lexer": "ipython3",
   "version": "3.12.2"
  }
 },
 "nbformat": 4,
 "nbformat_minor": 5
}
